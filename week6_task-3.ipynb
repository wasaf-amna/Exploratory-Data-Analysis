{
 "cells": [
  {
   "cell_type": "code",
   "execution_count": 5,
   "id": "a80d4365-695b-4090-a272-af83dd7ce3a4",
   "metadata": {},
   "outputs": [],
   "source": [
    "import pandas as pd \n",
    "import numpy as np\n",
    "import seaborn as sns\n",
    "import matplotlib.pyplot as plt\n",
    "from statsmodels.tsa.seasonal import seasonal_decompose\n",
    "from statsmodels.tsa.arima.model import ARIMA\n",
    "from sklearn.metrics import mean_squared_error  # Example function from sklearn.metrics\n",
    "from sklearn.preprocessing import MinMaxScaler\n",
    "from scipy import stats"
   ]
  },
  {
   "cell_type": "code",
   "execution_count": 8,
   "id": "3a5280a2-f464-4bba-9d04-eab76da39e25",
   "metadata": {},
   "outputs": [],
   "source": [
    "data = pd.read_excel(r\"C:\\Users\\ATOnile\\Downloads\\Papollo-Healtcare-Dataset.xlsx\")"
   ]
  },
  {
   "cell_type": "code",
   "execution_count": 9,
   "id": "55505935-603e-4a7a-a149-e41194c09a82",
   "metadata": {},
   "outputs": [
    {
     "data": {
      "text/html": [
       "<div>\n",
       "<style scoped>\n",
       "    .dataframe tbody tr th:only-of-type {\n",
       "        vertical-align: middle;\n",
       "    }\n",
       "\n",
       "    .dataframe tbody tr th {\n",
       "        vertical-align: top;\n",
       "    }\n",
       "\n",
       "    .dataframe thead th {\n",
       "        text-align: right;\n",
       "    }\n",
       "</style>\n",
       "<table border=\"1\" class=\"dataframe\">\n",
       "  <thead>\n",
       "    <tr style=\"text-align: right;\">\n",
       "      <th></th>\n",
       "      <th>Patient_ID</th>\n",
       "      <th>Admit_Date</th>\n",
       "      <th>Discharge_Date</th>\n",
       "      <th>Diagnosis</th>\n",
       "      <th>Bed_Occupancy</th>\n",
       "      <th>Test</th>\n",
       "      <th>Doctor</th>\n",
       "      <th>Followup Date</th>\n",
       "      <th>Feedback</th>\n",
       "      <th>Billing Amount</th>\n",
       "      <th>Health Insurance Amount</th>\n",
       "    </tr>\n",
       "  </thead>\n",
       "  <tbody>\n",
       "    <tr>\n",
       "      <th>0</th>\n",
       "      <td>23571</td>\n",
       "      <td>2022-12-31</td>\n",
       "      <td>2023-01-12</td>\n",
       "      <td>Viral Infection</td>\n",
       "      <td>General</td>\n",
       "      <td>MRI</td>\n",
       "      <td>Jay Sinha</td>\n",
       "      <td>2023-01-20</td>\n",
       "      <td>5.0</td>\n",
       "      <td>13234</td>\n",
       "      <td>11910.6</td>\n",
       "    </tr>\n",
       "    <tr>\n",
       "      <th>1</th>\n",
       "      <td>27781</td>\n",
       "      <td>2023-01-04</td>\n",
       "      <td>2023-01-12</td>\n",
       "      <td>Typhoid</td>\n",
       "      <td>ICU</td>\n",
       "      <td>MRI</td>\n",
       "      <td>Jaya Yaadav</td>\n",
       "      <td>2023-01-16</td>\n",
       "      <td>4.0</td>\n",
       "      <td>12241</td>\n",
       "      <td>11016.9</td>\n",
       "    </tr>\n",
       "    <tr>\n",
       "      <th>2</th>\n",
       "      <td>24413</td>\n",
       "      <td>2023-01-05</td>\n",
       "      <td>2023-01-12</td>\n",
       "      <td>Malaria</td>\n",
       "      <td>General</td>\n",
       "      <td>CT Scan</td>\n",
       "      <td>Jay Sinha</td>\n",
       "      <td>2023-01-15</td>\n",
       "      <td>5.0</td>\n",
       "      <td>35255</td>\n",
       "      <td>31729.5</td>\n",
       "    </tr>\n",
       "    <tr>\n",
       "      <th>3</th>\n",
       "      <td>27360</td>\n",
       "      <td>2023-01-05</td>\n",
       "      <td>2023-01-12</td>\n",
       "      <td>Flu</td>\n",
       "      <td>Private</td>\n",
       "      <td>X-Ray</td>\n",
       "      <td>Jaya Yaadav</td>\n",
       "      <td>2023-01-19</td>\n",
       "      <td>5.0</td>\n",
       "      <td>6582</td>\n",
       "      <td>5923.8</td>\n",
       "    </tr>\n",
       "    <tr>\n",
       "      <th>4</th>\n",
       "      <td>26097</td>\n",
       "      <td>2023-01-06</td>\n",
       "      <td>2023-01-12</td>\n",
       "      <td>Viral Infection</td>\n",
       "      <td>General</td>\n",
       "      <td>Blood Test</td>\n",
       "      <td>Jaya Yaadav</td>\n",
       "      <td>2023-02-06</td>\n",
       "      <td>4.9</td>\n",
       "      <td>4567</td>\n",
       "      <td>4110.3</td>\n",
       "    </tr>\n",
       "    <tr>\n",
       "      <th>...</th>\n",
       "      <td>...</td>\n",
       "      <td>...</td>\n",
       "      <td>...</td>\n",
       "      <td>...</td>\n",
       "      <td>...</td>\n",
       "      <td>...</td>\n",
       "      <td>...</td>\n",
       "      <td>...</td>\n",
       "      <td>...</td>\n",
       "      <td>...</td>\n",
       "      <td>...</td>\n",
       "    </tr>\n",
       "    <tr>\n",
       "      <th>7152</th>\n",
       "      <td>29885</td>\n",
       "      <td>2024-03-03</td>\n",
       "      <td>2024-03-07</td>\n",
       "      <td>Typhoid</td>\n",
       "      <td>Private</td>\n",
       "      <td>Blood Test</td>\n",
       "      <td>Jay Sinha</td>\n",
       "      <td>2024-03-10</td>\n",
       "      <td>5.0</td>\n",
       "      <td>2342</td>\n",
       "      <td>2107.8</td>\n",
       "    </tr>\n",
       "    <tr>\n",
       "      <th>7153</th>\n",
       "      <td>26517</td>\n",
       "      <td>2024-03-04</td>\n",
       "      <td>2024-03-07</td>\n",
       "      <td>Pneumonia</td>\n",
       "      <td>Private</td>\n",
       "      <td>CT Scan</td>\n",
       "      <td>Jaya Yaadav</td>\n",
       "      <td>2024-03-14</td>\n",
       "      <td>5.0</td>\n",
       "      <td>24943</td>\n",
       "      <td>22448.7</td>\n",
       "    </tr>\n",
       "    <tr>\n",
       "      <th>7154</th>\n",
       "      <td>28201</td>\n",
       "      <td>2024-03-05</td>\n",
       "      <td>2024-03-07</td>\n",
       "      <td>Flu</td>\n",
       "      <td>General</td>\n",
       "      <td>Blood Test</td>\n",
       "      <td>Jay Sinha</td>\n",
       "      <td>NaT</td>\n",
       "      <td>3.5</td>\n",
       "      <td>2343</td>\n",
       "      <td>2108.7</td>\n",
       "    </tr>\n",
       "    <tr>\n",
       "      <th>7155</th>\n",
       "      <td>24833</td>\n",
       "      <td>2024-03-06</td>\n",
       "      <td>2024-03-07</td>\n",
       "      <td>Typhoid</td>\n",
       "      <td>Private</td>\n",
       "      <td>X-Ray</td>\n",
       "      <td>Mark Joy</td>\n",
       "      <td>2024-03-15</td>\n",
       "      <td>4.9</td>\n",
       "      <td>3475</td>\n",
       "      <td>3127.5</td>\n",
       "    </tr>\n",
       "    <tr>\n",
       "      <th>7156</th>\n",
       "      <td>30727</td>\n",
       "      <td>2024-03-06</td>\n",
       "      <td>2024-03-07</td>\n",
       "      <td>Viral Infection</td>\n",
       "      <td>Private</td>\n",
       "      <td>Ultrasound</td>\n",
       "      <td>Jaya Yaadav</td>\n",
       "      <td>2024-03-11</td>\n",
       "      <td>5.0</td>\n",
       "      <td>66537</td>\n",
       "      <td>59883.3</td>\n",
       "    </tr>\n",
       "  </tbody>\n",
       "</table>\n",
       "<p>7157 rows × 11 columns</p>\n",
       "</div>"
      ],
      "text/plain": [
       "      Patient_ID Admit_Date Discharge_Date         Diagnosis Bed_Occupancy  \\\n",
       "0          23571 2022-12-31     2023-01-12  Viral Infection        General   \n",
       "1          27781 2023-01-04     2023-01-12           Typhoid           ICU   \n",
       "2          24413 2023-01-05     2023-01-12          Malaria        General   \n",
       "3          27360 2023-01-05     2023-01-12               Flu       Private   \n",
       "4          26097 2023-01-06     2023-01-12  Viral Infection        General   \n",
       "...          ...        ...            ...               ...           ...   \n",
       "7152       29885 2024-03-03     2024-03-07           Typhoid       Private   \n",
       "7153       26517 2024-03-04     2024-03-07        Pneumonia        Private   \n",
       "7154       28201 2024-03-05     2024-03-07               Flu       General   \n",
       "7155       24833 2024-03-06     2024-03-07           Typhoid       Private   \n",
       "7156       30727 2024-03-06     2024-03-07  Viral Infection        Private   \n",
       "\n",
       "            Test       Doctor Followup Date  Feedback  Billing Amount  \\\n",
       "0            MRI    Jay Sinha    2023-01-20       5.0           13234   \n",
       "1            MRI  Jaya Yaadav    2023-01-16       4.0           12241   \n",
       "2        CT Scan    Jay Sinha    2023-01-15       5.0           35255   \n",
       "3          X-Ray  Jaya Yaadav    2023-01-19       5.0            6582   \n",
       "4     Blood Test  Jaya Yaadav    2023-02-06       4.9            4567   \n",
       "...          ...          ...           ...       ...             ...   \n",
       "7152  Blood Test    Jay Sinha    2024-03-10       5.0            2342   \n",
       "7153     CT Scan  Jaya Yaadav    2024-03-14       5.0           24943   \n",
       "7154  Blood Test    Jay Sinha           NaT       3.5            2343   \n",
       "7155       X-Ray     Mark Joy    2024-03-15       4.9            3475   \n",
       "7156  Ultrasound  Jaya Yaadav    2024-03-11       5.0           66537   \n",
       "\n",
       "      Health Insurance Amount  \n",
       "0                     11910.6  \n",
       "1                     11016.9  \n",
       "2                     31729.5  \n",
       "3                      5923.8  \n",
       "4                      4110.3  \n",
       "...                       ...  \n",
       "7152                   2107.8  \n",
       "7153                  22448.7  \n",
       "7154                   2108.7  \n",
       "7155                   3127.5  \n",
       "7156                  59883.3  \n",
       "\n",
       "[7157 rows x 11 columns]"
      ]
     },
     "execution_count": 9,
     "metadata": {},
     "output_type": "execute_result"
    }
   ],
   "source": [
    "data"
   ]
  },
  {
   "cell_type": "code",
   "execution_count": 10,
   "id": "bc2bc6dc-efae-4c0d-865d-217e47e75b71",
   "metadata": {},
   "outputs": [
    {
     "data": {
      "text/plain": [
       "Patient_ID                   0\n",
       "Admit_Date                   0\n",
       "Discharge_Date               0\n",
       "Diagnosis                    0\n",
       "Bed_Occupancy                0\n",
       "Test                         0\n",
       "Doctor                       0\n",
       "Followup Date              122\n",
       "Feedback                     0\n",
       "Billing Amount               0\n",
       "Health Insurance Amount      0\n",
       "dtype: int64"
      ]
     },
     "execution_count": 10,
     "metadata": {},
     "output_type": "execute_result"
    }
   ],
   "source": [
    "data.isnull().sum()"
   ]
  },
  {
   "cell_type": "code",
   "execution_count": 34,
   "id": "840c9d97-02f6-472a-8f47-b5b34ab501e9",
   "metadata": {},
   "outputs": [
    {
     "data": {
      "text/plain": [
       "Patient_ID                          int64\n",
       "Admit_Date                 datetime64[ns]\n",
       "Discharge_Date             datetime64[ns]\n",
       "Diagnosis                          object\n",
       "Bed_Occupancy                      object\n",
       "Test                               object\n",
       "Doctor                             object\n",
       "Feedback                          float64\n",
       "Billing Amount                      int64\n",
       "Health Insurance Amount           float64\n",
       "dtype: object"
      ]
     },
     "execution_count": 34,
     "metadata": {},
     "output_type": "execute_result"
    }
   ],
   "source": [
    "data.dtypes"
   ]
  },
  {
   "cell_type": "code",
   "execution_count": 12,
   "id": "4507699e-1c4d-4d7f-ab85-d96394728da5",
   "metadata": {},
   "outputs": [],
   "source": [
    "data = data.drop('Followup Date',axis = 1)"
   ]
  },
  {
   "cell_type": "code",
   "execution_count": 16,
   "id": "2ad09a6a-5839-40d6-938a-ab8aab86be75",
   "metadata": {},
   "outputs": [
    {
     "data": {
      "text/plain": [
       "Patient_ID                 0\n",
       "Admit_Date                 0\n",
       "Discharge_Date             0\n",
       "Diagnosis                  0\n",
       "Bed_Occupancy              0\n",
       "Test                       0\n",
       "Doctor                     0\n",
       "Feedback                   0\n",
       "Billing Amount             0\n",
       "Health Insurance Amount    0\n",
       "dtype: int64"
      ]
     },
     "execution_count": 16,
     "metadata": {},
     "output_type": "execute_result"
    }
   ],
   "source": [
    "data.isnull().sum()"
   ]
  },
  {
   "cell_type": "code",
   "execution_count": 20,
   "id": "b146ddca-e7c7-478a-b091-dfacf7512402",
   "metadata": {},
   "outputs": [
    {
     "data": {
      "text/html": [
       "<div>\n",
       "<style scoped>\n",
       "    .dataframe tbody tr th:only-of-type {\n",
       "        vertical-align: middle;\n",
       "    }\n",
       "\n",
       "    .dataframe tbody tr th {\n",
       "        vertical-align: top;\n",
       "    }\n",
       "\n",
       "    .dataframe thead th {\n",
       "        text-align: right;\n",
       "    }\n",
       "</style>\n",
       "<table border=\"1\" class=\"dataframe\">\n",
       "  <thead>\n",
       "    <tr style=\"text-align: right;\">\n",
       "      <th></th>\n",
       "      <th>Bed_Occupancy</th>\n",
       "      <th>count</th>\n",
       "    </tr>\n",
       "  </thead>\n",
       "  <tbody>\n",
       "    <tr>\n",
       "      <th>0</th>\n",
       "      <td>Private</td>\n",
       "      <td>3579</td>\n",
       "    </tr>\n",
       "    <tr>\n",
       "      <th>1</th>\n",
       "      <td>General</td>\n",
       "      <td>2385</td>\n",
       "    </tr>\n",
       "    <tr>\n",
       "      <th>2</th>\n",
       "      <td>ICU</td>\n",
       "      <td>1193</td>\n",
       "    </tr>\n",
       "  </tbody>\n",
       "</table>\n",
       "</div>"
      ],
      "text/plain": [
       "  Bed_Occupancy  count\n",
       "0       Private   3579\n",
       "1       General   2385\n",
       "2           ICU   1193"
      ]
     },
     "execution_count": 20,
     "metadata": {},
     "output_type": "execute_result"
    }
   ],
   "source": [
    "occupancy = data['Bed_Occupancy'].value_counts()\n",
    "occupancy.reset_index()"
   ]
  },
  {
   "cell_type": "code",
   "execution_count": 146,
   "id": "903d3218-5ee7-4920-af1f-16f420e2050c",
   "metadata": {},
   "outputs": [
    {
     "name": "stdout",
     "output_type": "stream",
     "text": [
      "Index(['Blood Test', 'MRI', 'CT Scan', 'X-Ray', 'Ultrasound'], dtype='object', name='Test')\n",
      "[2236 1789 1342  895  895]\n"
     ]
    }
   ],
   "source": [
    "test = data['Test'].value_counts().index\n",
    "test_value = data['Test'].value_counts().values\n",
    "print(test )\n",
    "print(test_value )"
   ]
  },
  {
   "cell_type": "code",
   "execution_count": 138,
   "id": "3dd2b569-86af-4d4e-9376-f8b3fdb255c2",
   "metadata": {},
   "outputs": [
    {
     "name": "stdout",
     "output_type": "stream",
     "text": [
      "Index([895, 2236, 1789, 1342], dtype='int64', name='count')\n",
      "[2 1 1 1]\n"
     ]
    }
   ],
   "source": []
  },
  {
   "cell_type": "code",
   "execution_count": 121,
   "id": "80e629f6-bf45-47bd-8476-b6ec8eb4ca55",
   "metadata": {},
   "outputs": [
    {
     "data": {
      "text/html": [
       "<div>\n",
       "<style scoped>\n",
       "    .dataframe tbody tr th:only-of-type {\n",
       "        vertical-align: middle;\n",
       "    }\n",
       "\n",
       "    .dataframe tbody tr th {\n",
       "        vertical-align: top;\n",
       "    }\n",
       "\n",
       "    .dataframe thead th {\n",
       "        text-align: right;\n",
       "    }\n",
       "</style>\n",
       "<table border=\"1\" class=\"dataframe\">\n",
       "  <thead>\n",
       "    <tr style=\"text-align: right;\">\n",
       "      <th></th>\n",
       "      <th>Diagnosis</th>\n",
       "      <th>count</th>\n",
       "    </tr>\n",
       "  </thead>\n",
       "  <tbody>\n",
       "    <tr>\n",
       "      <th>0</th>\n",
       "      <td>Viral Infection</td>\n",
       "      <td>2004</td>\n",
       "    </tr>\n",
       "    <tr>\n",
       "      <th>1</th>\n",
       "      <td>Flu</td>\n",
       "      <td>1717</td>\n",
       "    </tr>\n",
       "    <tr>\n",
       "      <th>2</th>\n",
       "      <td>Malaria</td>\n",
       "      <td>1431</td>\n",
       "    </tr>\n",
       "    <tr>\n",
       "      <th>3</th>\n",
       "      <td>Typhoid</td>\n",
       "      <td>1145</td>\n",
       "    </tr>\n",
       "    <tr>\n",
       "      <th>4</th>\n",
       "      <td>Pneumonia</td>\n",
       "      <td>573</td>\n",
       "    </tr>\n",
       "    <tr>\n",
       "      <th>5</th>\n",
       "      <td>Fracture</td>\n",
       "      <td>287</td>\n",
       "    </tr>\n",
       "  </tbody>\n",
       "</table>\n",
       "</div>"
      ],
      "text/plain": [
       "          Diagnosis  count\n",
       "0  Viral Infection    2004\n",
       "1               Flu   1717\n",
       "2          Malaria    1431\n",
       "3           Typhoid   1145\n",
       "4        Pneumonia     573\n",
       "5          Fracture    287"
      ]
     },
     "execution_count": 121,
     "metadata": {},
     "output_type": "execute_result"
    }
   ],
   "source": [
    "diagnosis = data['Diagnosis'].value_counts()\n",
    "diagnosis .reset_index()"
   ]
  },
  {
   "cell_type": "code",
   "execution_count": 36,
   "id": "76b638cf-4372-4ec1-aa9c-cf4fceeeb5f3",
   "metadata": {},
   "outputs": [
    {
     "data": {
      "text/html": [
       "<div>\n",
       "<style scoped>\n",
       "    .dataframe tbody tr th:only-of-type {\n",
       "        vertical-align: middle;\n",
       "    }\n",
       "\n",
       "    .dataframe tbody tr th {\n",
       "        vertical-align: top;\n",
       "    }\n",
       "\n",
       "    .dataframe thead th {\n",
       "        text-align: right;\n",
       "    }\n",
       "</style>\n",
       "<table border=\"1\" class=\"dataframe\">\n",
       "  <thead>\n",
       "    <tr style=\"text-align: right;\">\n",
       "      <th></th>\n",
       "      <th>Patient_ID</th>\n",
       "      <th>Feedback</th>\n",
       "      <th>Billing Amount</th>\n",
       "      <th>Health Insurance Amount</th>\n",
       "    </tr>\n",
       "  </thead>\n",
       "  <tbody>\n",
       "    <tr>\n",
       "      <th>0</th>\n",
       "      <td>23571</td>\n",
       "      <td>5.0</td>\n",
       "      <td>13234</td>\n",
       "      <td>11910.6</td>\n",
       "    </tr>\n",
       "    <tr>\n",
       "      <th>1</th>\n",
       "      <td>27781</td>\n",
       "      <td>4.0</td>\n",
       "      <td>12241</td>\n",
       "      <td>11016.9</td>\n",
       "    </tr>\n",
       "    <tr>\n",
       "      <th>2</th>\n",
       "      <td>24413</td>\n",
       "      <td>5.0</td>\n",
       "      <td>35255</td>\n",
       "      <td>31729.5</td>\n",
       "    </tr>\n",
       "    <tr>\n",
       "      <th>3</th>\n",
       "      <td>27360</td>\n",
       "      <td>5.0</td>\n",
       "      <td>6582</td>\n",
       "      <td>5923.8</td>\n",
       "    </tr>\n",
       "    <tr>\n",
       "      <th>4</th>\n",
       "      <td>26097</td>\n",
       "      <td>4.9</td>\n",
       "      <td>4567</td>\n",
       "      <td>4110.3</td>\n",
       "    </tr>\n",
       "    <tr>\n",
       "      <th>...</th>\n",
       "      <td>...</td>\n",
       "      <td>...</td>\n",
       "      <td>...</td>\n",
       "      <td>...</td>\n",
       "    </tr>\n",
       "    <tr>\n",
       "      <th>7152</th>\n",
       "      <td>29885</td>\n",
       "      <td>5.0</td>\n",
       "      <td>2342</td>\n",
       "      <td>2107.8</td>\n",
       "    </tr>\n",
       "    <tr>\n",
       "      <th>7153</th>\n",
       "      <td>26517</td>\n",
       "      <td>5.0</td>\n",
       "      <td>24943</td>\n",
       "      <td>22448.7</td>\n",
       "    </tr>\n",
       "    <tr>\n",
       "      <th>7154</th>\n",
       "      <td>28201</td>\n",
       "      <td>3.5</td>\n",
       "      <td>2343</td>\n",
       "      <td>2108.7</td>\n",
       "    </tr>\n",
       "    <tr>\n",
       "      <th>7155</th>\n",
       "      <td>24833</td>\n",
       "      <td>4.9</td>\n",
       "      <td>3475</td>\n",
       "      <td>3127.5</td>\n",
       "    </tr>\n",
       "    <tr>\n",
       "      <th>7156</th>\n",
       "      <td>30727</td>\n",
       "      <td>5.0</td>\n",
       "      <td>66537</td>\n",
       "      <td>59883.3</td>\n",
       "    </tr>\n",
       "  </tbody>\n",
       "</table>\n",
       "<p>7157 rows × 4 columns</p>\n",
       "</div>"
      ],
      "text/plain": [
       "      Patient_ID  Feedback  Billing Amount  Health Insurance Amount\n",
       "0          23571       5.0           13234                  11910.6\n",
       "1          27781       4.0           12241                  11016.9\n",
       "2          24413       5.0           35255                  31729.5\n",
       "3          27360       5.0            6582                   5923.8\n",
       "4          26097       4.9            4567                   4110.3\n",
       "...          ...       ...             ...                      ...\n",
       "7152       29885       5.0            2342                   2107.8\n",
       "7153       26517       5.0           24943                  22448.7\n",
       "7154       28201       3.5            2343                   2108.7\n",
       "7155       24833       4.9            3475                   3127.5\n",
       "7156       30727       5.0           66537                  59883.3\n",
       "\n",
       "[7157 rows x 4 columns]"
      ]
     },
     "execution_count": 36,
     "metadata": {},
     "output_type": "execute_result"
    }
   ],
   "source": [
    "numeric_data = data.select_dtypes(include =['float64','int64'])\n",
    "numeric_data"
   ]
  },
  {
   "cell_type": "code",
   "execution_count": 38,
   "id": "a2b39808-23c6-440f-82b4-96141fb79af1",
   "metadata": {},
   "outputs": [
    {
     "data": {
      "text/html": [
       "<div>\n",
       "<style scoped>\n",
       "    .dataframe tbody tr th:only-of-type {\n",
       "        vertical-align: middle;\n",
       "    }\n",
       "\n",
       "    .dataframe tbody tr th {\n",
       "        vertical-align: top;\n",
       "    }\n",
       "\n",
       "    .dataframe thead th {\n",
       "        text-align: right;\n",
       "    }\n",
       "</style>\n",
       "<table border=\"1\" class=\"dataframe\">\n",
       "  <thead>\n",
       "    <tr style=\"text-align: right;\">\n",
       "      <th></th>\n",
       "      <th>Feedback</th>\n",
       "      <th>Billing Amount</th>\n",
       "      <th>Health Insurance Amount</th>\n",
       "    </tr>\n",
       "  </thead>\n",
       "  <tbody>\n",
       "    <tr>\n",
       "      <th>0</th>\n",
       "      <td>5.0</td>\n",
       "      <td>13234</td>\n",
       "      <td>11910.6</td>\n",
       "    </tr>\n",
       "    <tr>\n",
       "      <th>1</th>\n",
       "      <td>4.0</td>\n",
       "      <td>12241</td>\n",
       "      <td>11016.9</td>\n",
       "    </tr>\n",
       "    <tr>\n",
       "      <th>2</th>\n",
       "      <td>5.0</td>\n",
       "      <td>35255</td>\n",
       "      <td>31729.5</td>\n",
       "    </tr>\n",
       "    <tr>\n",
       "      <th>3</th>\n",
       "      <td>5.0</td>\n",
       "      <td>6582</td>\n",
       "      <td>5923.8</td>\n",
       "    </tr>\n",
       "    <tr>\n",
       "      <th>4</th>\n",
       "      <td>4.9</td>\n",
       "      <td>4567</td>\n",
       "      <td>4110.3</td>\n",
       "    </tr>\n",
       "    <tr>\n",
       "      <th>...</th>\n",
       "      <td>...</td>\n",
       "      <td>...</td>\n",
       "      <td>...</td>\n",
       "    </tr>\n",
       "    <tr>\n",
       "      <th>7152</th>\n",
       "      <td>5.0</td>\n",
       "      <td>2342</td>\n",
       "      <td>2107.8</td>\n",
       "    </tr>\n",
       "    <tr>\n",
       "      <th>7153</th>\n",
       "      <td>5.0</td>\n",
       "      <td>24943</td>\n",
       "      <td>22448.7</td>\n",
       "    </tr>\n",
       "    <tr>\n",
       "      <th>7154</th>\n",
       "      <td>3.5</td>\n",
       "      <td>2343</td>\n",
       "      <td>2108.7</td>\n",
       "    </tr>\n",
       "    <tr>\n",
       "      <th>7155</th>\n",
       "      <td>4.9</td>\n",
       "      <td>3475</td>\n",
       "      <td>3127.5</td>\n",
       "    </tr>\n",
       "    <tr>\n",
       "      <th>7156</th>\n",
       "      <td>5.0</td>\n",
       "      <td>66537</td>\n",
       "      <td>59883.3</td>\n",
       "    </tr>\n",
       "  </tbody>\n",
       "</table>\n",
       "<p>7157 rows × 3 columns</p>\n",
       "</div>"
      ],
      "text/plain": [
       "      Feedback  Billing Amount  Health Insurance Amount\n",
       "0          5.0           13234                  11910.6\n",
       "1          4.0           12241                  11016.9\n",
       "2          5.0           35255                  31729.5\n",
       "3          5.0            6582                   5923.8\n",
       "4          4.9            4567                   4110.3\n",
       "...        ...             ...                      ...\n",
       "7152       5.0            2342                   2107.8\n",
       "7153       5.0           24943                  22448.7\n",
       "7154       3.5            2343                   2108.7\n",
       "7155       4.9            3475                   3127.5\n",
       "7156       5.0           66537                  59883.3\n",
       "\n",
       "[7157 rows x 3 columns]"
      ]
     },
     "execution_count": 38,
     "metadata": {},
     "output_type": "execute_result"
    }
   ],
   "source": [
    "num_data = numeric_data.drop('Patient_ID', axis = 1)\n",
    "num_data"
   ]
  },
  {
   "cell_type": "code",
   "execution_count": 40,
   "id": "c393839c-917f-401f-8ba2-b662dfea6d79",
   "metadata": {},
   "outputs": [
    {
     "data": {
      "text/html": [
       "<div>\n",
       "<style scoped>\n",
       "    .dataframe tbody tr th:only-of-type {\n",
       "        vertical-align: middle;\n",
       "    }\n",
       "\n",
       "    .dataframe tbody tr th {\n",
       "        vertical-align: top;\n",
       "    }\n",
       "\n",
       "    .dataframe thead th {\n",
       "        text-align: right;\n",
       "    }\n",
       "</style>\n",
       "<table border=\"1\" class=\"dataframe\">\n",
       "  <thead>\n",
       "    <tr style=\"text-align: right;\">\n",
       "      <th></th>\n",
       "      <th>Feedback</th>\n",
       "      <th>Billing Amount</th>\n",
       "      <th>Health Insurance Amount</th>\n",
       "    </tr>\n",
       "  </thead>\n",
       "  <tbody>\n",
       "    <tr>\n",
       "      <th>Feedback</th>\n",
       "      <td>1.000000</td>\n",
       "      <td>0.006163</td>\n",
       "      <td>0.006163</td>\n",
       "    </tr>\n",
       "    <tr>\n",
       "      <th>Billing Amount</th>\n",
       "      <td>0.006163</td>\n",
       "      <td>1.000000</td>\n",
       "      <td>1.000000</td>\n",
       "    </tr>\n",
       "    <tr>\n",
       "      <th>Health Insurance Amount</th>\n",
       "      <td>0.006163</td>\n",
       "      <td>1.000000</td>\n",
       "      <td>1.000000</td>\n",
       "    </tr>\n",
       "  </tbody>\n",
       "</table>\n",
       "</div>"
      ],
      "text/plain": [
       "                         Feedback  Billing Amount  Health Insurance Amount\n",
       "Feedback                 1.000000        0.006163                 0.006163\n",
       "Billing Amount           0.006163        1.000000                 1.000000\n",
       "Health Insurance Amount  0.006163        1.000000                 1.000000"
      ]
     },
     "execution_count": 40,
     "metadata": {},
     "output_type": "execute_result"
    }
   ],
   "source": [
    "cor_matarix = num_data.corr()\n",
    "cor_matarix "
   ]
  },
  {
   "cell_type": "code",
   "execution_count": 54,
   "id": "292d3e3e-5113-4862-8b97-5765a66d9bc9",
   "metadata": {},
   "outputs": [
    {
     "data": {
      "image/png": "[encoded data removed]",
      "text/plain": [
       "<Figure size 700x800 with 2 Axes>"
      ]
     },
     "metadata": {},
     "output_type": "display_data"
    }
   ],
   "source": [
    "plt.figure(figsize=(7,8))\n",
    "sns.heatmap(cor_matarix, annot = True,cmap='coolwarm', fmt='.2f' )\n",
    "plt.title('Correlation Matrix')\n",
    "plt.show()"
   ]
  },
  {
   "cell_type": "code",
   "execution_count": 65,
   "id": "fa2b8591-65c3-4c99-9e2a-c31c194541d7",
   "metadata": {},
   "outputs": [
    {
     "data": {
      "image/png": "[encoded data removed]",
      "text/plain": [
       "<Figure size 700x800 with 1 Axes>"
      ]
     },
     "metadata": {},
     "output_type": "display_data"
    }
   ],
   "source": [
    "plt.figure(figsize=(7, 8))\n",
    "sns.barplot(x='Diagnosis', y='Billing Amount', data=data)\n",
    "plt.show()"
   ]
  },
  {
   "cell_type": "code",
   "execution_count": 80,
   "id": "f5d28bb4-81d0-410a-882c-d60ed565fd02",
   "metadata": {},
   "outputs": [
    {
     "data": {
      "image/png": "[encoded data removed]",
      "text/plain": [
       "<Figure size 900x700 with 1 Axes>"
      ]
     },
     "metadata": {},
     "output_type": "display_data"
    }
   ],
   "source": [
    "plt.figure(figsize=(9, 7))\n",
    "sns.countplot(x='Diagnosis',  data=data)\n",
    "plt.show()"
   ]
  },
  {
   "cell_type": "code",
   "execution_count": 150,
   "id": "ad8f4dc5-7b35-41bb-b1f2-865644a85d76",
   "metadata": {},
   "outputs": [
    {
     "data": {
      "image/png": "[encoded data removed]",
      "text/plain": [
       "<Figure size 640x480 with 1 Axes>"
      ]
     },
     "metadata": {},
     "output_type": "display_data"
    }
   ],
   "source": [
    "plt.pie(test_value,labels = test ,autopct = \"%0.2f%%\")\n",
    "plt.show()"
   ]
  },
  {
   "cell_type": "code",
   "execution_count": 160,
   "id": "cf9545a2-74e3-4b4d-9b86-0a78017fe9e8",
   "metadata": {},
   "outputs": [
    {
     "data": {
      "image/png": "[encoded data removed]",
      "text/plain": [
       "<Figure size 700x800 with 1 Axes>"
      ]
     },
     "metadata": {},
     "output_type": "display_data"
    }
   ],
   "source": [
    "plt.figure(figsize=(7, 8))\n",
    "sns.boxplot(x='Bed_Occupancy', y='Billing Amount', data=data)\n",
    "plt.show()"
   ]
  },
  {
   "cell_type": "code",
   "execution_count": null,
   "id": "e878a182-236b-40df-a5be-d0473441ac50",
   "metadata": {},
   "outputs": [],
   "source": []
  }
 ],
 "metadata": {
  "kernelspec": {
   "display_name": "Python 3 (ipykernel)",
   "language": "python",
   "name": "python3"
  },
  "language_info": {
   "codemirror_mode": {
    "name": "ipython",
    "version": 3
   },
   "file_extension": ".py",
   "mimetype": "text/x-python",
   "name": "python",
   "nbconvert_exporter": "python",
   "pygments_lexer": "ipython3",
   "version": "3.11.5"
  }
 },
 "nbformat": 4,
 "nbformat_minor": 5
}
